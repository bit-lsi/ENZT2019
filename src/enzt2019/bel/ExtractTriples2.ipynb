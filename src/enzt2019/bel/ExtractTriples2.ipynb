{
 "cells": [
  {
   "cell_type": "code",
   "execution_count": 5,
   "metadata": {},
   "outputs": [],
   "source": [
    "def extractTriples(fin):    \n",
    "    for line in fin:\n",
    "        if line.startswith(\"a(\") or line.startswith(\"p(\") or line.startswith(\"g(\") or line.startswith(\"m(\") or line.startswith(\"bp(\") or line.startswith(\"sec(\") or line.startswith(\"kin(\") or line.startswith(\"deg(\") or line.startswith(\"cat(\") or line.startswith(\"pep(\") or line.startswith(\"act(\") or line.startswith(\"path(\") or line.startswith(\"tloc(\") or line.startswith(\"complex(\") or line.startswith(\"tscript(\") or line.startswith(\"r(\") or line.startswith(\"reactants(\") or line.startswith(\"chap(\"):  \n",
    "            fout.write(line)\n",
    "         \n",
    "#fin=open(\"C:/Users/jrkarki/Desktop/python/Parkinson Disease Model V0.4.bel\",encoding=\"utf8\")\n",
    "fin=open(\"NF-kB in AD and MS.bel\",encoding=\"utf8\")\n",
    "fout=open(\"NFkBTriples.txt\",\"w\",encoding=\"utf8\")   \n",
    "extractTriples(fin)\n",
    "fout.close()\n",
    "fin.close()\n"
   ]
  },
  {
   "cell_type": "code",
   "execution_count": 6,
   "metadata": {},
   "outputs": [],
   "source": [
    "#extracts all genes, \n",
    "def extractGenes(file):\n",
    "    import re\n",
    "    gene=list()\n",
    "    newGeneList=list()\n",
    "    for line in file:\n",
    "        #if not (line.startswith(\"#\") or line == \"\\n\" or line.startswith(\"SET\")):\n",
    "        #if \"HGNC\" in line or \"MGI:\" in line or \"RGD:\" in line:\n",
    "        if \"HGNC\" in line:\n",
    "            #lookFor = '(HGNC:|MGI:|RGD:)(.+?)[\\)|,]'\n",
    "            lookFor = '(HGNC:)(.+?)[\\)|,]'\n",
    "            #m is an array of size [n][n] where\n",
    "            m=re.findall(lookFor,line)\n",
    "            i=0\n",
    "            #while i<len(m):\n",
    "            while i in range(len(m)):\n",
    "               gene.append(m[i][1])\n",
    "               i=i+1\n",
    "#now cleaning up the genes i.e., remove quotations and unwanted spaces \n",
    "    for item in gene:\n",
    "        if (\"\\\"\") in item:\n",
    "            newItem=re.sub(\"\\\"\",\"\",item)\n",
    "            item=newItem\n",
    "        if item.startswith(\" \"):\n",
    "            newItem2=re.sub(\" \",\"\",item)\n",
    "            item=newItem2    \n",
    "        if item not in newGeneList:\n",
    "            newGeneList.append(item)\n",
    "    for gene in sorted(newGeneList):\n",
    "        fout.write(\"%s\\n\" % gene)\n",
    "            \n",
    "\n",
    "fin=open(\"NFkBTriples.txt\",encoding=\"utf8\")            \n",
    "fout=open(\"Genes.txt\",\"w\",encoding=\"utf8\")            \n",
    "\n",
    "#fin=open(\"C:/Users/jrkarki/Desktop/python/Parkinson_Disease_Model_final.bel\",encoding=\"utf8\")\n",
    "#fin=open(\"C:/Users/jrkarki/Desktop/python/Human_Neuroinflammation_12_03_2015.bel\",encoding=\"utf8\")\n",
    "extractGenes(fin)\n",
    "fout.close()\n",
    "fin.close()\n",
    "\n",
    "\n",
    "\n",
    "\n",
    "\n"
   ]
  },
  {
   "cell_type": "code",
   "execution_count": null,
   "metadata": {},
   "outputs": [],
   "source": []
  }
 ],
 "metadata": {
  "kernelspec": {
   "display_name": "Python 3",
   "language": "python",
   "name": "python3"
  },
  "language_info": {
   "codemirror_mode": {
    "name": "ipython",
    "version": 3
   },
   "file_extension": ".py",
   "mimetype": "text/x-python",
   "name": "python",
   "nbconvert_exporter": "python",
   "pygments_lexer": "ipython3",
   "version": "3.7.0"
  }
 },
 "nbformat": 4,
 "nbformat_minor": 2
}
